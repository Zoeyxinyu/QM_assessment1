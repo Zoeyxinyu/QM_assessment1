{
 "cells": [
  {
   "cell_type": "raw",
   "id": "ad8c4555-c2ca-4405-9245-5705a473524e",
   "metadata": {},
   "source": [
    "import pandas as pd\n",
    "import numpy as py\n",
    "import matplotlib.pyplot as plt\n",
    "%matplotlib inline"
   ]
  },
  {
   "cell_type": "code",
   "execution_count": 74,
   "id": "7907c3e8-0909-4315-adf0-09f99019ea22",
   "metadata": {},
   "outputs": [
    {
     "data": {
      "text/html": [
       "<div>\n",
       "<style scoped>\n",
       "    .dataframe tbody tr th:only-of-type {\n",
       "        vertical-align: middle;\n",
       "    }\n",
       "\n",
       "    .dataframe tbody tr th {\n",
       "        vertical-align: top;\n",
       "    }\n",
       "\n",
       "    .dataframe thead th {\n",
       "        text-align: right;\n",
       "    }\n",
       "</style>\n",
       "<table border=\"1\" class=\"dataframe\">\n",
       "  <thead>\n",
       "    <tr style=\"text-align: right;\">\n",
       "      <th></th>\n",
       "      <th>cases_ratio_2018</th>\n",
       "      <th>cases_percentage</th>\n",
       "      <th>ca_per</th>\n",
       "      <th>ce_per</th>\n",
       "      <th>ht_per</th>\n",
       "      <th>sa_per</th>\n",
       "      <th>ma_per</th>\n",
       "      <th>sc_per</th>\n",
       "      <th>total_buaget_per_2013</th>\n",
       "    </tr>\n",
       "  </thead>\n",
       "  <tbody>\n",
       "    <tr>\n",
       "      <th>0</th>\n",
       "      <td>0.004197</td>\n",
       "      <td>0.419741</td>\n",
       "      <td>0.117299</td>\n",
       "      <td>0.122884</td>\n",
       "      <td>0.100542</td>\n",
       "      <td>0.229012</td>\n",
       "      <td>0.100542</td>\n",
       "      <td>0.106127</td>\n",
       "      <td>0.776406</td>\n",
       "    </tr>\n",
       "    <tr>\n",
       "      <th>1</th>\n",
       "      <td>0.002172</td>\n",
       "      <td>0.217162</td>\n",
       "      <td>0.145323</td>\n",
       "      <td>0.049410</td>\n",
       "      <td>0.066848</td>\n",
       "      <td>0.215078</td>\n",
       "      <td>0.087194</td>\n",
       "      <td>0.075568</td>\n",
       "      <td>0.639420</td>\n",
       "    </tr>\n",
       "    <tr>\n",
       "      <th>2</th>\n",
       "      <td>0.002044</td>\n",
       "      <td>0.204356</td>\n",
       "      <td>0.168026</td>\n",
       "      <td>0.184419</td>\n",
       "      <td>0.020491</td>\n",
       "      <td>0.106553</td>\n",
       "      <td>0.118848</td>\n",
       "      <td>0.057375</td>\n",
       "      <td>0.655711</td>\n",
       "    </tr>\n",
       "    <tr>\n",
       "      <th>3</th>\n",
       "      <td>0.002609</td>\n",
       "      <td>0.260915</td>\n",
       "      <td>0.190779</td>\n",
       "      <td>0.242810</td>\n",
       "      <td>0.109842</td>\n",
       "      <td>0.289059</td>\n",
       "      <td>0.057812</td>\n",
       "      <td>0.040468</td>\n",
       "      <td>0.930770</td>\n",
       "    </tr>\n",
       "    <tr>\n",
       "      <th>4</th>\n",
       "      <td>0.002153</td>\n",
       "      <td>0.215296</td>\n",
       "      <td>0.224505</td>\n",
       "      <td>0.315521</td>\n",
       "      <td>0.103151</td>\n",
       "      <td>0.048542</td>\n",
       "      <td>0.018203</td>\n",
       "      <td>0.078880</td>\n",
       "      <td>0.788801</td>\n",
       "    </tr>\n",
       "  </tbody>\n",
       "</table>\n",
       "</div>"
      ],
      "text/plain": [
       "   cases_ratio_2018  cases_percentage    ca_per    ce_per    ht_per    sa_per  \\\n",
       "0          0.004197          0.419741  0.117299  0.122884  0.100542  0.229012   \n",
       "1          0.002172          0.217162  0.145323  0.049410  0.066848  0.215078   \n",
       "2          0.002044          0.204356  0.168026  0.184419  0.020491  0.106553   \n",
       "3          0.002609          0.260915  0.190779  0.242810  0.109842  0.289059   \n",
       "4          0.002153          0.215296  0.224505  0.315521  0.103151  0.048542   \n",
       "\n",
       "     ma_per    sc_per  total_buaget_per_2013  \n",
       "0  0.100542  0.106127               0.776406  \n",
       "1  0.087194  0.075568               0.639420  \n",
       "2  0.118848  0.057375               0.655711  \n",
       "3  0.057812  0.040468               0.930770  \n",
       "4  0.018203  0.078880               0.788801  "
      ]
     },
     "execution_count": 74,
     "metadata": {},
     "output_type": "execute_result"
    }
   ],
   "source": [
    "data = pd.read_csv('Final_data.csv')\n",
    "\n",
    "data.head()"
   ]
  },
  {
   "cell_type": "code",
   "execution_count": 75,
   "id": "aad4a28a-4222-4ef9-b343-d2545b29b006",
   "metadata": {},
   "outputs": [
    {
     "data": {
      "text/html": [
       "<div>\n",
       "<style scoped>\n",
       "    .dataframe tbody tr th:only-of-type {\n",
       "        vertical-align: middle;\n",
       "    }\n",
       "\n",
       "    .dataframe tbody tr th {\n",
       "        vertical-align: top;\n",
       "    }\n",
       "\n",
       "    .dataframe thead th {\n",
       "        text-align: right;\n",
       "    }\n",
       "</style>\n",
       "<table border=\"1\" class=\"dataframe\">\n",
       "  <thead>\n",
       "    <tr style=\"text-align: right;\">\n",
       "      <th></th>\n",
       "      <th>cases_ratio_2018</th>\n",
       "      <th>cases_percentage</th>\n",
       "      <th>ca_per</th>\n",
       "      <th>ce_per</th>\n",
       "      <th>ht_per</th>\n",
       "      <th>sa_per</th>\n",
       "      <th>ma_per</th>\n",
       "      <th>sc_per</th>\n",
       "      <th>total_buaget_per_2013</th>\n",
       "    </tr>\n",
       "  </thead>\n",
       "  <tbody>\n",
       "    <tr>\n",
       "      <th>count</th>\n",
       "      <td>150.000000</td>\n",
       "      <td>150.000000</td>\n",
       "      <td>150.000000</td>\n",
       "      <td>150.000000</td>\n",
       "      <td>150.000000</td>\n",
       "      <td>150.000000</td>\n",
       "      <td>150.000000</td>\n",
       "      <td>150.000000</td>\n",
       "      <td>151.000000</td>\n",
       "    </tr>\n",
       "    <tr>\n",
       "      <th>mean</th>\n",
       "      <td>0.003472</td>\n",
       "      <td>0.347189</td>\n",
       "      <td>0.168509</td>\n",
       "      <td>0.194097</td>\n",
       "      <td>0.073669</td>\n",
       "      <td>0.181245</td>\n",
       "      <td>0.094498</td>\n",
       "      <td>0.061051</td>\n",
       "      <td>0.773503</td>\n",
       "    </tr>\n",
       "    <tr>\n",
       "      <th>std</th>\n",
       "      <td>0.001379</td>\n",
       "      <td>0.137892</td>\n",
       "      <td>0.069415</td>\n",
       "      <td>0.076355</td>\n",
       "      <td>0.033443</td>\n",
       "      <td>0.066921</td>\n",
       "      <td>0.041879</td>\n",
       "      <td>0.026054</td>\n",
       "      <td>0.093182</td>\n",
       "    </tr>\n",
       "    <tr>\n",
       "      <th>min</th>\n",
       "      <td>0.001014</td>\n",
       "      <td>0.101388</td>\n",
       "      <td>0.021626</td>\n",
       "      <td>0.016790</td>\n",
       "      <td>0.004546</td>\n",
       "      <td>0.004677</td>\n",
       "      <td>0.015076</td>\n",
       "      <td>0.011243</td>\n",
       "      <td>0.613481</td>\n",
       "    </tr>\n",
       "    <tr>\n",
       "      <th>25%</th>\n",
       "      <td>0.002568</td>\n",
       "      <td>0.256821</td>\n",
       "      <td>0.125518</td>\n",
       "      <td>0.136318</td>\n",
       "      <td>0.050356</td>\n",
       "      <td>0.135861</td>\n",
       "      <td>0.060689</td>\n",
       "      <td>0.041047</td>\n",
       "      <td>0.713340</td>\n",
       "    </tr>\n",
       "    <tr>\n",
       "      <th>50%</th>\n",
       "      <td>0.003208</td>\n",
       "      <td>0.320777</td>\n",
       "      <td>0.168656</td>\n",
       "      <td>0.198699</td>\n",
       "      <td>0.073668</td>\n",
       "      <td>0.176163</td>\n",
       "      <td>0.093707</td>\n",
       "      <td>0.059564</td>\n",
       "      <td>0.765630</td>\n",
       "    </tr>\n",
       "    <tr>\n",
       "      <th>75%</th>\n",
       "      <td>0.004077</td>\n",
       "      <td>0.407715</td>\n",
       "      <td>0.210453</td>\n",
       "      <td>0.246851</td>\n",
       "      <td>0.094711</td>\n",
       "      <td>0.223367</td>\n",
       "      <td>0.122228</td>\n",
       "      <td>0.076215</td>\n",
       "      <td>0.825136</td>\n",
       "    </tr>\n",
       "    <tr>\n",
       "      <th>max</th>\n",
       "      <td>0.008729</td>\n",
       "      <td>0.872881</td>\n",
       "      <td>0.426364</td>\n",
       "      <td>0.412673</td>\n",
       "      <td>0.200642</td>\n",
       "      <td>0.413394</td>\n",
       "      <td>0.225977</td>\n",
       "      <td>0.183407</td>\n",
       "      <td>1.279093</td>\n",
       "    </tr>\n",
       "  </tbody>\n",
       "</table>\n",
       "</div>"
      ],
      "text/plain": [
       "       cases_ratio_2018  cases_percentage      ca_per      ce_per      ht_per  \\\n",
       "count        150.000000        150.000000  150.000000  150.000000  150.000000   \n",
       "mean           0.003472          0.347189    0.168509    0.194097    0.073669   \n",
       "std            0.001379          0.137892    0.069415    0.076355    0.033443   \n",
       "min            0.001014          0.101388    0.021626    0.016790    0.004546   \n",
       "25%            0.002568          0.256821    0.125518    0.136318    0.050356   \n",
       "50%            0.003208          0.320777    0.168656    0.198699    0.073668   \n",
       "75%            0.004077          0.407715    0.210453    0.246851    0.094711   \n",
       "max            0.008729          0.872881    0.426364    0.412673    0.200642   \n",
       "\n",
       "           sa_per      ma_per      sc_per  total_buaget_per_2013  \n",
       "count  150.000000  150.000000  150.000000             151.000000  \n",
       "mean     0.181245    0.094498    0.061051               0.773503  \n",
       "std      0.066921    0.041879    0.026054               0.093182  \n",
       "min      0.004677    0.015076    0.011243               0.613481  \n",
       "25%      0.135861    0.060689    0.041047               0.713340  \n",
       "50%      0.176163    0.093707    0.059564               0.765630  \n",
       "75%      0.223367    0.122228    0.076215               0.825136  \n",
       "max      0.413394    0.225977    0.183407               1.279093  "
      ]
     },
     "execution_count": 75,
     "metadata": {},
     "output_type": "execute_result"
    }
   ],
   "source": [
    "data.describe()"
   ]
  },
  {
   "cell_type": "code",
   "execution_count": 76,
   "id": "7770ddfb-9d68-4251-99a9-b89562ea238d",
   "metadata": {},
   "outputs": [
    {
     "data": {
      "image/png": "[encoded data removed]",
      "text/plain": [
       "<Figure size 576x288 with 1 Axes>"
      ]
     },
     "metadata": {
      "needs_background": "light"
     },
     "output_type": "display_data"
    }
   ],
   "source": [
    "plt.figure(figsize=(8, 4))\n",
    "plt.scatter(\n",
    "    data['ca_per'],\n",
    "    data['cases_percentage'],\n",
    "    c='black'\n",
    ")\n",
    "plt.xlabel(\"Money spent on clean air per capital\")\n",
    "plt.ylabel(\"Obesity cases rate\")\n",
    "plt.show()"
   ]
  },
  {
   "cell_type": "code",
   "execution_count": 77,
   "id": "7ba5c8a1-38a9-422c-92be-06637354dc5f",
   "metadata": {},
   "outputs": [
    {
     "data": {
      "image/png": "[encoded data removed]",
      "text/plain": [
       "<Figure size 576x288 with 1 Axes>"
      ]
     },
     "metadata": {
      "needs_background": "light"
     },
     "output_type": "display_data"
    }
   ],
   "source": [
    "plt.figure(figsize=(8, 4))\n",
    "plt.scatter(\n",
    "    data['ce_per'],\n",
    "    data['cases_percentage'],\n",
    "    c='black'\n",
    ")\n",
    "plt.xlabel(\"Money spent on clean environment per capital\")\n",
    "plt.ylabel(\"Obesity cases rate\")\n",
    "plt.show()"
   ]
  },
  {
   "cell_type": "code",
   "execution_count": 78,
   "id": "d008310e-52f2-4a05-90c2-5b29a18cfbf3",
   "metadata": {},
   "outputs": [
    {
     "data": {
      "image/png": "[encoded data removed]",
      "text/plain": [
       "<Figure size 576x288 with 1 Axes>"
      ]
     },
     "metadata": {
      "needs_background": "light"
     },
     "output_type": "display_data"
    }
   ],
   "source": [
    "plt.figure(figsize=(8, 4))\n",
    "plt.scatter(\n",
    "    data['ht_per'],\n",
    "    data['cases_percentage'],\n",
    "    c='black'\n",
    ")\n",
    "plt.xlabel(\"Money spent on health training per capital\")\n",
    "plt.ylabel(\"Obesity cases rate\")\n",
    "plt.show()"
   ]
  },
  {
   "cell_type": "code",
   "execution_count": 79,
   "id": "4a13167f-9065-4d25-a49d-00f10f74782b",
   "metadata": {},
   "outputs": [
    {
     "data": {
      "image/png": "[encoded data removed]",
      "text/plain": [
       "<Figure size 576x288 with 1 Axes>"
      ]
     },
     "metadata": {
      "needs_background": "light"
     },
     "output_type": "display_data"
    }
   ],
   "source": [
    "plt.figure(figsize=(8, 4))\n",
    "plt.scatter(\n",
    "    data['sa_per'],\n",
    "    data['cases_percentage'],\n",
    "    c='black'\n",
    ")\n",
    "plt.xlabel(\"Money spent on school awareness per capital\")\n",
    "plt.ylabel(\"Obesity cases rate\")\n",
    "plt.show()"
   ]
  },
  {
   "cell_type": "code",
   "execution_count": 80,
   "id": "e1b2abbb-53a3-4034-bf02-9bc206206315",
   "metadata": {},
   "outputs": [
    {
     "data": {
      "image/png": "[encoded data removed]",
      "text/plain": [
       "<Figure size 576x288 with 1 Axes>"
      ]
     },
     "metadata": {
      "needs_background": "light"
     },
     "output_type": "display_data"
    }
   ],
   "source": [
    "plt.figure(figsize=(8, 4))\n",
    "plt.scatter(\n",
    "    data['ma_per'],\n",
    "    data['cases_percentage'],\n",
    "    c='black'\n",
    ")\n",
    "plt.xlabel(\"Money spent on media awareness per capital\")\n",
    "plt.ylabel(\"Obesity cases rate\")\n",
    "plt.show()"
   ]
  },
  {
   "cell_type": "code",
   "execution_count": 81,
   "id": "c921d932-fb4d-4df6-b41b-7234c3889ecc",
   "metadata": {},
   "outputs": [
    {
     "data": {
      "image/png": "[encoded data removed]",
      "text/plain": [
       "<Figure size 576x288 with 1 Axes>"
      ]
     },
     "metadata": {
      "needs_background": "light"
     },
     "output_type": "display_data"
    }
   ],
   "source": [
    "plt.figure(figsize=(8, 4))\n",
    "plt.scatter(\n",
    "    data['sc_per'],\n",
    "    data['cases_percentage'],\n",
    "    c='black'\n",
    ")\n",
    "plt.xlabel(\"Money spent on sub-councilling per capital\")\n",
    "plt.ylabel(\"Obesity cases rate\")\n",
    "plt.show()"
   ]
  },
  {
   "cell_type": "code",
   "execution_count": 86,
   "id": "122d29a7-99e0-4cb4-8b99-1c7fa422f306",
   "metadata": {},
   "outputs": [],
   "source": [
    "corr = data.corr()\n",
    "corr\n",
    "pd.DataFrame(corr).to_csv('Pearson_r.csv')"
   ]
  },
  {
   "cell_type": "code",
   "execution_count": 92,
   "id": "0e9475b2-49f5-4f37-aba5-452386ca3806",
   "metadata": {},
   "outputs": [
    {
     "name": "stdout",
     "output_type": "stream",
     "text": [
      "                            OLS Regression Results                            \n",
      "==============================================================================\n",
      "Dep. Variable:       cases_ratio_2018   R-squared:                       0.041\n",
      "Model:                            OLS   Adj. R-squared:                  0.001\n",
      "Method:                 Least Squares   F-statistic:                     1.013\n",
      "Date:                Mon, 15 Nov 2021   Prob (F-statistic):              0.419\n",
      "Time:                        06:28:30   Log-Likelihood:                 778.75\n",
      "No. Observations:                 150   AIC:                            -1544.\n",
      "Df Residuals:                     143   BIC:                            -1522.\n",
      "Df Model:                           6                                         \n",
      "Covariance Type:            nonrobust                                         \n",
      "==============================================================================\n",
      "                 coef    std err          t      P>|t|      [0.025      0.975]\n",
      "------------------------------------------------------------------------------\n",
      "Intercept      0.0048      0.001      5.098      0.000       0.003       0.007\n",
      "ca_per        -0.0025      0.002     -1.389      0.167      -0.006       0.001\n",
      "ce_per        -0.0032      0.002     -1.799      0.074      -0.007       0.000\n",
      "ht_per        -0.0024      0.003     -0.706      0.481      -0.009       0.004\n",
      "sa_per        -0.0022      0.002     -1.164      0.246      -0.006       0.002\n",
      "ma_per         0.0013      0.003      0.460      0.646      -0.004       0.007\n",
      "sc_per         0.0019      0.004      0.426      0.671      -0.007       0.011\n",
      "==============================================================================\n",
      "Omnibus:                       26.058   Durbin-Watson:                   1.919\n",
      "Prob(Omnibus):                  0.000   Jarque-Bera (JB):               34.368\n",
      "Skew:                           1.008   Prob(JB):                     3.44e-08\n",
      "Kurtosis:                       4.196   Cond. No.                         41.8\n",
      "==============================================================================\n",
      "\n",
      "Notes:\n",
      "[1] Standard Errors assume that the covariance matrix of the errors is correctly specified.\n"
     ]
    }
   ],
   "source": [
    "import statsmodels.formula.api as smf\n",
    "import statsmodels.api as sm\n",
    "import pandas as pd\n",
    "obe_2018 = data.loc[:,['cases_ratio_2018', 'ca_per', 'ce_per', 'ht_per','sa_per','ma_per', 'sc_per']]\n",
    "multi_regression_model_1 = smf.ols('cases_ratio_2018 ~ ca_per + ce_per + ht_per + sa_per + ma_per + sc_per',obe_2018).fit()\n",
    "print(multi_regression_model_1.summary())"
   ]
  },
  {
   "cell_type": "code",
   "execution_count": 88,
   "id": "47bdfa02-5d20-47c9-b6dc-3714eea6ffe3",
   "metadata": {},
   "outputs": [
    {
     "data": {
      "image/png": "[encoded data removed]",
      "text/plain": [
       "<Figure size 576x576 with 2 Axes>"
      ]
     },
     "metadata": {
      "needs_background": "light"
     },
     "output_type": "display_data"
    }
   ],
   "source": [
    "fig = plt.figure(figsize=(8,8))\n",
    "plt.matshow(corr, cmap='RdBu', fignum=fig.number)\n",
    "plt.xticks(range(len(corr.columns)), corr.columns, rotation='vertical');\n",
    "plt.yticks(range(len(corr.columns)), corr.columns);\n",
    "cb = plt.colorbar()\n",
    "cb.ax.tick_params(labelsize=14)"
   ]
  },
  {
   "cell_type": "code",
   "execution_count": 36,
   "id": "29e6da67-159d-4b15-a451-b4fc5ce92052",
   "metadata": {},
   "outputs": [],
   "source": [
    "t2=pd.read_csv('2018_per_pop.csv')"
   ]
  },
  {
   "cell_type": "code",
   "execution_count": 37,
   "id": "03b261f0-2b24-40db-b550-3a6ae9474a9d",
   "metadata": {},
   "outputs": [
    {
     "data": {
      "text/html": [
       "<div>\n",
       "<style scoped>\n",
       "    .dataframe tbody tr th:only-of-type {\n",
       "        vertical-align: middle;\n",
       "    }\n",
       "\n",
       "    .dataframe tbody tr th {\n",
       "        vertical-align: top;\n",
       "    }\n",
       "\n",
       "    .dataframe thead th {\n",
       "        text-align: right;\n",
       "    }\n",
       "</style>\n",
       "<table border=\"1\" class=\"dataframe\">\n",
       "  <thead>\n",
       "    <tr style=\"text-align: right;\">\n",
       "      <th></th>\n",
       "      <th>cases_ratio</th>\n",
       "      <th>ca_per</th>\n",
       "      <th>ce_per</th>\n",
       "      <th>ht_per</th>\n",
       "      <th>sa_per</th>\n",
       "      <th>ma_per</th>\n",
       "      <th>sc_per</th>\n",
       "    </tr>\n",
       "  </thead>\n",
       "  <tbody>\n",
       "    <tr>\n",
       "      <th>0</th>\n",
       "      <td>0.004197</td>\n",
       "      <td>0.115525</td>\n",
       "      <td>0.121026</td>\n",
       "      <td>0.099021</td>\n",
       "      <td>0.225549</td>\n",
       "      <td>0.099021</td>\n",
       "      <td>0.104523</td>\n",
       "    </tr>\n",
       "    <tr>\n",
       "      <th>1</th>\n",
       "      <td>0.002172</td>\n",
       "      <td>0.140467</td>\n",
       "      <td>0.047759</td>\n",
       "      <td>0.064615</td>\n",
       "      <td>0.207891</td>\n",
       "      <td>0.084280</td>\n",
       "      <td>0.073043</td>\n",
       "    </tr>\n",
       "    <tr>\n",
       "      <th>2</th>\n",
       "      <td>0.002044</td>\n",
       "      <td>0.158987</td>\n",
       "      <td>0.174498</td>\n",
       "      <td>0.019389</td>\n",
       "      <td>0.100821</td>\n",
       "      <td>0.112454</td>\n",
       "      <td>0.054288</td>\n",
       "    </tr>\n",
       "    <tr>\n",
       "      <th>3</th>\n",
       "      <td>0.002609</td>\n",
       "      <td>0.174295</td>\n",
       "      <td>0.221830</td>\n",
       "      <td>0.100352</td>\n",
       "      <td>0.264084</td>\n",
       "      <td>0.052817</td>\n",
       "      <td>0.036972</td>\n",
       "    </tr>\n",
       "    <tr>\n",
       "      <th>4</th>\n",
       "      <td>0.002153</td>\n",
       "      <td>0.217056</td>\n",
       "      <td>0.305052</td>\n",
       "      <td>0.099728</td>\n",
       "      <td>0.046931</td>\n",
       "      <td>0.017599</td>\n",
       "      <td>0.076263</td>\n",
       "    </tr>\n",
       "  </tbody>\n",
       "</table>\n",
       "</div>"
      ],
      "text/plain": [
       "   cases_ratio    ca_per    ce_per    ht_per    sa_per    ma_per    sc_per\n",
       "0     0.004197  0.115525  0.121026  0.099021  0.225549  0.099021  0.104523\n",
       "1     0.002172  0.140467  0.047759  0.064615  0.207891  0.084280  0.073043\n",
       "2     0.002044  0.158987  0.174498  0.019389  0.100821  0.112454  0.054288\n",
       "3     0.002609  0.174295  0.221830  0.100352  0.264084  0.052817  0.036972\n",
       "4     0.002153  0.217056  0.305052  0.099728  0.046931  0.017599  0.076263"
      ]
     },
     "execution_count": 37,
     "metadata": {},
     "output_type": "execute_result"
    }
   ],
   "source": [
    "t2.head()"
   ]
  },
  {
   "cell_type": "code",
   "execution_count": 38,
   "id": "fdf49d39-7bbb-4862-807b-16b47afc753e",
   "metadata": {},
   "outputs": [
    {
     "data": {
      "text/html": [
       "<div>\n",
       "<style scoped>\n",
       "    .dataframe tbody tr th:only-of-type {\n",
       "        vertical-align: middle;\n",
       "    }\n",
       "\n",
       "    .dataframe tbody tr th {\n",
       "        vertical-align: top;\n",
       "    }\n",
       "\n",
       "    .dataframe thead th {\n",
       "        text-align: right;\n",
       "    }\n",
       "</style>\n",
       "<table border=\"1\" class=\"dataframe\">\n",
       "  <thead>\n",
       "    <tr style=\"text-align: right;\">\n",
       "      <th></th>\n",
       "      <th>cases_ratio</th>\n",
       "      <th>ca_per</th>\n",
       "      <th>ce_per</th>\n",
       "      <th>ht_per</th>\n",
       "      <th>sa_per</th>\n",
       "      <th>ma_per</th>\n",
       "      <th>sc_per</th>\n",
       "    </tr>\n",
       "  </thead>\n",
       "  <tbody>\n",
       "    <tr>\n",
       "      <th>cases_ratio</th>\n",
       "      <td>1.000000</td>\n",
       "      <td>-0.141300</td>\n",
       "      <td>-0.155178</td>\n",
       "      <td>-0.121945</td>\n",
       "      <td>-0.111321</td>\n",
       "      <td>0.060033</td>\n",
       "      <td>0.042810</td>\n",
       "    </tr>\n",
       "    <tr>\n",
       "      <th>ca_per</th>\n",
       "      <td>-0.141300</td>\n",
       "      <td>1.000000</td>\n",
       "      <td>0.535149</td>\n",
       "      <td>0.728873</td>\n",
       "      <td>0.776664</td>\n",
       "      <td>0.170631</td>\n",
       "      <td>0.128794</td>\n",
       "    </tr>\n",
       "    <tr>\n",
       "      <th>ce_per</th>\n",
       "      <td>-0.155178</td>\n",
       "      <td>0.535149</td>\n",
       "      <td>1.000000</td>\n",
       "      <td>0.596087</td>\n",
       "      <td>0.580405</td>\n",
       "      <td>0.121523</td>\n",
       "      <td>0.065726</td>\n",
       "    </tr>\n",
       "    <tr>\n",
       "      <th>ht_per</th>\n",
       "      <td>-0.121945</td>\n",
       "      <td>0.728873</td>\n",
       "      <td>0.596087</td>\n",
       "      <td>1.000000</td>\n",
       "      <td>0.821514</td>\n",
       "      <td>0.237986</td>\n",
       "      <td>0.196377</td>\n",
       "    </tr>\n",
       "    <tr>\n",
       "      <th>sa_per</th>\n",
       "      <td>-0.111321</td>\n",
       "      <td>0.776664</td>\n",
       "      <td>0.580405</td>\n",
       "      <td>0.821514</td>\n",
       "      <td>1.000000</td>\n",
       "      <td>0.286510</td>\n",
       "      <td>0.224546</td>\n",
       "    </tr>\n",
       "    <tr>\n",
       "      <th>ma_per</th>\n",
       "      <td>0.060033</td>\n",
       "      <td>0.170631</td>\n",
       "      <td>0.121523</td>\n",
       "      <td>0.237986</td>\n",
       "      <td>0.286510</td>\n",
       "      <td>1.000000</td>\n",
       "      <td>0.171010</td>\n",
       "    </tr>\n",
       "    <tr>\n",
       "      <th>sc_per</th>\n",
       "      <td>0.042810</td>\n",
       "      <td>0.128794</td>\n",
       "      <td>0.065726</td>\n",
       "      <td>0.196377</td>\n",
       "      <td>0.224546</td>\n",
       "      <td>0.171010</td>\n",
       "      <td>1.000000</td>\n",
       "    </tr>\n",
       "  </tbody>\n",
       "</table>\n",
       "</div>"
      ],
      "text/plain": [
       "             cases_ratio    ca_per    ce_per    ht_per    sa_per    ma_per  \\\n",
       "cases_ratio     1.000000 -0.141300 -0.155178 -0.121945 -0.111321  0.060033   \n",
       "ca_per         -0.141300  1.000000  0.535149  0.728873  0.776664  0.170631   \n",
       "ce_per         -0.155178  0.535149  1.000000  0.596087  0.580405  0.121523   \n",
       "ht_per         -0.121945  0.728873  0.596087  1.000000  0.821514  0.237986   \n",
       "sa_per         -0.111321  0.776664  0.580405  0.821514  1.000000  0.286510   \n",
       "ma_per          0.060033  0.170631  0.121523  0.237986  0.286510  1.000000   \n",
       "sc_per          0.042810  0.128794  0.065726  0.196377  0.224546  0.171010   \n",
       "\n",
       "               sc_per  \n",
       "cases_ratio  0.042810  \n",
       "ca_per       0.128794  \n",
       "ce_per       0.065726  \n",
       "ht_per       0.196377  \n",
       "sa_per       0.224546  \n",
       "ma_per       0.171010  \n",
       "sc_per       1.000000  "
      ]
     },
     "execution_count": 38,
     "metadata": {},
     "output_type": "execute_result"
    }
   ],
   "source": [
    "corr2 = t2.corr()\n",
    "corr2"
   ]
  },
  {
   "cell_type": "code",
   "execution_count": 51,
   "id": "d5cc85be-6d8e-4e23-a30e-5a2a1c1cdefd",
   "metadata": {},
   "outputs": [],
   "source": []
  },
  {
   "cell_type": "code",
   "execution_count": 39,
   "id": "c11a90ac-b5f9-4848-a016-fcb9ee72bd2a",
   "metadata": {},
   "outputs": [
    {
     "data": {
      "text/plain": [
       "Text(0.5, 1.0, 'Correlation Matrix')"
      ]
     },
     "execution_count": 39,
     "metadata": {},
     "output_type": "execute_result"
    },
    {
     "data": {
      "image/png": "[encoded data removed]",
      "text/plain": [
       "<Figure size 1368x1080 with 2 Axes>"
      ]
     },
     "metadata": {
      "needs_background": "light"
     },
     "output_type": "display_data"
    }
   ],
   "source": [
    "df = t2\n",
    "plt.rcParams[\"axes.grid\"] = False\n",
    "f = plt.figure(figsize=(19, 15))\n",
    "plt.matshow(df.corr(), fignum=f.number)\n",
    "plt.xticks(range(df.shape[1]), df.columns, fontsize=14, rotation=45)\n",
    "plt.yticks(range(df.shape[1]), df.columns, fontsize=14)\n",
    "cb = plt.colorbar()\n",
    "cb.ax.tick_params(labelsize=14)\n",
    "plt.title('Correlation Matrix', fontsize=16)"
   ]
  },
  {
   "cell_type": "code",
   "execution_count": null,
   "id": "231e59fb-1718-4a97-8ebe-0b45748dfba6",
   "metadata": {},
   "outputs": [],
   "source": []
  },
  {
   "cell_type": "code",
   "execution_count": null,
   "id": "30ba9510-50d5-453f-a502-e6bef8a1a74c",
   "metadata": {},
   "outputs": [],
   "source": []
  }
 ],
 "metadata": {
  "kernelspec": {
   "display_name": "Python 3 (ipykernel)",
   "language": "python",
   "name": "python3"
  },
  "language_info": {
   "codemirror_mode": {
    "name": "ipython",
    "version": 3
   },
   "file_extension": ".py",
   "mimetype": "text/x-python",
   "name": "python",
   "nbconvert_exporter": "python",
   "pygments_lexer": "ipython3",
   "version": "3.9.6"
  }
 },
 "nbformat": 4,
 "nbformat_minor": 5
}
